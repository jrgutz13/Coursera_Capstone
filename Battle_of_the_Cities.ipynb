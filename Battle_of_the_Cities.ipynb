{
 "cells": [
  {
   "cell_type": "markdown",
   "metadata": {},
   "source": [
    "# BATTLE OF THE CITIES -- J.R. Gutierrez"
   ]
  },
  {
   "cell_type": "markdown",
   "metadata": {},
   "source": [
    "## Intro / Business Problem"
   ]
  },
  {
   "cell_type": "markdown",
   "metadata": {},
   "source": [
    "#### John and his wife Libby want to take a vacation to either New York and Toronto. However they aren't sure what would offer them the right experience for what they are seeking. New York and Toronto are two very powerful, diverse cities in their respective countries. While they are very similar, they also differ greatly in their food, hotels and tourists attractions. John and Libby don't find enough information online to satisfy these concerns."
   ]
  },
  {
   "cell_type": "markdown",
   "metadata": {},
   "source": [
    "## Background"
   ]
  },
  {
   "cell_type": "markdown",
   "metadata": {},
   "source": [
    "#### John happens to be a data scientist, and will explore New York and Toronto by segmenting and clustering the most exciting neighborhood for each city using the Foursquare API and K-Means algorithm. These clusters of data will include the restaurants, hotels, parks, galleries and other tourist attractions. The neighborhoods selected include Manhattan from New York and Downtown Toronto from Toronto."
   ]
  },
  {
   "cell_type": "markdown",
   "metadata": {},
   "source": [
    "## Data"
   ]
  },
  {
   "cell_type": "markdown",
   "metadata": {},
   "source": [
    "#### John will use the ML algorithm K-means to cluster the neighborhoods with similar objects, with a focus on locating the hottest tourist spots and venues of each. This way the cities can be analyzed and compared adequately.\n",
    "\n",
    "#### For downtown Toronto, John will extract data from a wikipedia page to breakdown the neighborhoods within. Then he we will clean and wrangle data as needed, like removing duplicates and \"Not assigned\" values. John will use Foursquare API to retrieve the coordinates of Downtown Toronto and explore its neighborhoods. The neighborhoods are then further characterized and clustered.\n",
    "\n",
    "#### Manhattan will go through much of the same process. John will retrieve a saved data file which is already explored through foursquare API in which he extracted and sorted all the boroughs of New York. Afterwards, Manhattan's neighborhoods and its venues will be characterized and clustered as well. "
   ]
  },
  {
   "cell_type": "code",
   "execution_count": null,
   "metadata": {},
   "outputs": [],
   "source": []
  }
 ],
 "metadata": {
  "kernelspec": {
   "display_name": "Python",
   "language": "python",
   "name": "conda-env-python-py"
  },
  "language_info": {
   "codemirror_mode": {
    "name": "ipython",
    "version": 3
   },
   "file_extension": ".py",
   "mimetype": "text/x-python",
   "name": "python",
   "nbconvert_exporter": "python",
   "pygments_lexer": "ipython3",
   "version": "3.6.7"
  }
 },
 "nbformat": 4,
 "nbformat_minor": 4
}
